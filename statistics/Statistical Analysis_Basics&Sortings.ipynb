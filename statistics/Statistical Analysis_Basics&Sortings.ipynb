{
 "cells": [
  {
   "cell_type": "markdown",
   "metadata": {},
   "source": [
    "# Statistical Analysis\n",
    "## 1. statistical analysis of the factors\n",
    "description of each factors, make sure all the data are usable and the outliers can be explained \n",
    "## 2. correlation anaylsis of factors\n",
    "there is no strong correlation between any pair of factors\n",
    "## 3. univariate sorting base on downside risk factor and volatility\n",
    "both downside risk and vol factors perform pretty well\n",
    "## 4. bivariate sorting (control for bond types and other factors)\n",
    "downside risk factor's performance is more robust"
   ]
  },
  {
   "cell_type": "code",
   "execution_count": 12,
   "metadata": {},
   "outputs": [],
   "source": [
    "#导入数据\n",
    "import numpy as np\n",
    "import pandas as pd\n",
    "import matplotlib.pyplot as plt\n",
    "import scipy.io\n",
    "import statsmodels.api as sm\n",
    "import statsmodels.formula.api as smf\n",
    "import scipy\n",
    "from scipy.stats import f\n",
    "import scipy.stats as stats\n",
    "# additional packages\n",
    "from statsmodels.stats.diagnostic import lillifors\n",
    "from pylab import mpl\n",
    "from scipy import stats\n",
    "from scipy.stats import norm\n",
    "\n",
    "data_address = '~/Downloads/'\n",
    "monthly_cb_value = pd.read_csv(data_address + 'monthly_cb_value_fin_adjReturnStata190901.csv')"
   ]
  },
  {
   "cell_type": "markdown",
   "metadata": {},
   "source": [
    "## Table 1-A   Statistical Anlysis of Factors\n",
    "Give a simple description of the major factors in data"
   ]
  },
  {
   "cell_type": "code",
   "execution_count": 13,
   "metadata": {},
   "outputs": [],
   "source": [
    "def description(a):\n",
    "    des = pd.DataFrame(np.zeros((1, 14)))\n",
    "    des.columns = ['mean', 'median', 'var', 'std', 'skew', 'kurt', 'min', 'max', '1st', '5th', '25th', '75th', '95th', '99th']\n",
    "    des['mean'][0] = a.mean()\n",
    "    des['median'][0] = a.median()\n",
    "    des['var'][0] = a.var()\n",
    "    des['std'][0] = a.std()\n",
    "    des['skew'][0] = a.skew()\n",
    "    des['kurt'][0] = a.kurt()\n",
    "    des['min'][0] = a.min()\n",
    "    des['max'][0] = a.max()\n",
    "    des['1st'][0] = a.quantile(0.01)\n",
    "    des['5th'][0] = a.quantile(0.05)\n",
    "    des['25th'][0] = a.quantile(0.25)\n",
    "    des['75th'][0] = a.quantile(0.75)\n",
    "    des['95th'][0] = a.quantile(0.95)\n",
    "    des['99th'][0] = a.quantile(0.99)\n",
    "    \n",
    "    return des\n",
    "\n",
    "descrip = pd.DataFrame(np.zeros((1, 14)))\n",
    "\n",
    "descrip.columns = ['mean', 'median', 'var', 'std', 'skew', 'kurt', 'min', 'max', '1st', '5th', '25th', '75th', '95th', '99th']\n",
    "descrip_index = ['returns', 'downside_risk_3', 'status_dsr', 'vol', 'skew','illiq_2_2', 'default_spread', 'creditrate', 'res_day', 'coupon', 'total_size']\n",
    "\n",
    "for n in descrip_index:\n",
    "    descrip = descrip.append(description(monthly_cb_value[n]))\n",
    "\n",
    "descrip = descrip[1:]\n",
    "\n",
    "descrip.index = descrip_index\n"
   ]
  },
  {
   "cell_type": "code",
   "execution_count": 14,
   "metadata": {},
   "outputs": [
    {
     "data": {
      "text/html": [
       "<div>\n",
       "<style>\n",
       "    .dataframe thead tr:only-child th {\n",
       "        text-align: right;\n",
       "    }\n",
       "\n",
       "    .dataframe thead th {\n",
       "        text-align: left;\n",
       "    }\n",
       "\n",
       "    .dataframe tbody tr th {\n",
       "        vertical-align: top;\n",
       "    }\n",
       "</style>\n",
       "<table border=\"1\" class=\"dataframe\">\n",
       "  <thead>\n",
       "    <tr style=\"text-align: right;\">\n",
       "      <th></th>\n",
       "      <th>mean</th>\n",
       "      <th>median</th>\n",
       "      <th>var</th>\n",
       "      <th>std</th>\n",
       "      <th>skew</th>\n",
       "      <th>kurt</th>\n",
       "      <th>min</th>\n",
       "      <th>max</th>\n",
       "      <th>1st</th>\n",
       "      <th>5th</th>\n",
       "      <th>25th</th>\n",
       "      <th>75th</th>\n",
       "      <th>95th</th>\n",
       "      <th>99th</th>\n",
       "    </tr>\n",
       "  </thead>\n",
       "  <tbody>\n",
       "    <tr>\n",
       "      <th>returns</th>\n",
       "      <td>0.002192</td>\n",
       "      <td>0.004757</td>\n",
       "      <td>0.000571</td>\n",
       "      <td>0.023886</td>\n",
       "      <td>-6.108449</td>\n",
       "      <td>43.054608</td>\n",
       "      <td>-0.179702</td>\n",
       "      <td>0.039195</td>\n",
       "      <td>-0.179702</td>\n",
       "      <td>-0.014646</td>\n",
       "      <td>0.002825</td>\n",
       "      <td>0.006723</td>\n",
       "      <td>0.019217</td>\n",
       "      <td>0.039195</td>\n",
       "    </tr>\n",
       "    <tr>\n",
       "      <th>downside_risk_3</th>\n",
       "      <td>0.005677</td>\n",
       "      <td>0.000000</td>\n",
       "      <td>0.000879</td>\n",
       "      <td>0.029647</td>\n",
       "      <td>9.376352</td>\n",
       "      <td>112.894635</td>\n",
       "      <td>0.000000</td>\n",
       "      <td>0.873396</td>\n",
       "      <td>0.000000</td>\n",
       "      <td>0.000000</td>\n",
       "      <td>0.000000</td>\n",
       "      <td>0.000000</td>\n",
       "      <td>0.022697</td>\n",
       "      <td>0.190841</td>\n",
       "    </tr>\n",
       "    <tr>\n",
       "      <th>status_dsr</th>\n",
       "      <td>-0.004486</td>\n",
       "      <td>-0.004508</td>\n",
       "      <td>0.000005</td>\n",
       "      <td>0.002204</td>\n",
       "      <td>-0.463931</td>\n",
       "      <td>-0.711295</td>\n",
       "      <td>-0.009887</td>\n",
       "      <td>-0.001112</td>\n",
       "      <td>-0.009887</td>\n",
       "      <td>-0.008269</td>\n",
       "      <td>-0.006075</td>\n",
       "      <td>-0.002710</td>\n",
       "      <td>-0.001463</td>\n",
       "      <td>-0.001112</td>\n",
       "    </tr>\n",
       "    <tr>\n",
       "      <th>vol</th>\n",
       "      <td>0.001605</td>\n",
       "      <td>0.000000</td>\n",
       "      <td>0.000027</td>\n",
       "      <td>0.005177</td>\n",
       "      <td>5.579493</td>\n",
       "      <td>35.105956</td>\n",
       "      <td>0.000000</td>\n",
       "      <td>0.039332</td>\n",
       "      <td>0.000000</td>\n",
       "      <td>0.000000</td>\n",
       "      <td>0.000000</td>\n",
       "      <td>0.000645</td>\n",
       "      <td>0.007947</td>\n",
       "      <td>0.039332</td>\n",
       "    </tr>\n",
       "    <tr>\n",
       "      <th>skew</th>\n",
       "      <td>0.033211</td>\n",
       "      <td>0.000000</td>\n",
       "      <td>4.710706</td>\n",
       "      <td>2.170416</td>\n",
       "      <td>-0.015242</td>\n",
       "      <td>0.852875</td>\n",
       "      <td>-4.619601</td>\n",
       "      <td>4.690416</td>\n",
       "      <td>-4.619601</td>\n",
       "      <td>-4.472136</td>\n",
       "      <td>0.000000</td>\n",
       "      <td>0.000000</td>\n",
       "      <td>4.469533</td>\n",
       "      <td>4.690416</td>\n",
       "    </tr>\n",
       "    <tr>\n",
       "      <th>illiq_2_2</th>\n",
       "      <td>0.069389</td>\n",
       "      <td>0.055556</td>\n",
       "      <td>0.013547</td>\n",
       "      <td>0.116393</td>\n",
       "      <td>1.221392</td>\n",
       "      <td>18.985435</td>\n",
       "      <td>-0.999998</td>\n",
       "      <td>1.000000</td>\n",
       "      <td>-0.254995</td>\n",
       "      <td>-0.015029</td>\n",
       "      <td>0.050000</td>\n",
       "      <td>0.071429</td>\n",
       "      <td>0.259467</td>\n",
       "      <td>0.500000</td>\n",
       "    </tr>\n",
       "    <tr>\n",
       "      <th>default_spread</th>\n",
       "      <td>1.229138</td>\n",
       "      <td>-1.270753</td>\n",
       "      <td>99.207179</td>\n",
       "      <td>9.960280</td>\n",
       "      <td>5.146521</td>\n",
       "      <td>32.591518</td>\n",
       "      <td>-6.990800</td>\n",
       "      <td>94.651642</td>\n",
       "      <td>-5.287200</td>\n",
       "      <td>-3.967564</td>\n",
       "      <td>-2.481489</td>\n",
       "      <td>0.110372</td>\n",
       "      <td>21.070892</td>\n",
       "      <td>59.087924</td>\n",
       "    </tr>\n",
       "    <tr>\n",
       "      <th>creditrate</th>\n",
       "      <td>4.642002</td>\n",
       "      <td>5.000000</td>\n",
       "      <td>2.068598</td>\n",
       "      <td>1.438262</td>\n",
       "      <td>-1.723986</td>\n",
       "      <td>3.628973</td>\n",
       "      <td>0.000000</td>\n",
       "      <td>6.000000</td>\n",
       "      <td>0.000000</td>\n",
       "      <td>0.000000</td>\n",
       "      <td>4.000000</td>\n",
       "      <td>6.000000</td>\n",
       "      <td>6.000000</td>\n",
       "      <td>6.000000</td>\n",
       "    </tr>\n",
       "    <tr>\n",
       "      <th>res_day</th>\n",
       "      <td>4.128499</td>\n",
       "      <td>4.136986</td>\n",
       "      <td>5.548658</td>\n",
       "      <td>2.355559</td>\n",
       "      <td>0.030897</td>\n",
       "      <td>0.217219</td>\n",
       "      <td>-2.336717</td>\n",
       "      <td>9.852055</td>\n",
       "      <td>-2.336717</td>\n",
       "      <td>0.394506</td>\n",
       "      <td>2.561009</td>\n",
       "      <td>5.747945</td>\n",
       "      <td>8.534247</td>\n",
       "      <td>9.852055</td>\n",
       "    </tr>\n",
       "    <tr>\n",
       "      <th>coupon</th>\n",
       "      <td>5.534797</td>\n",
       "      <td>5.700000</td>\n",
       "      <td>3.319477</td>\n",
       "      <td>1.821943</td>\n",
       "      <td>0.164317</td>\n",
       "      <td>-0.869864</td>\n",
       "      <td>2.540000</td>\n",
       "      <td>10.000000</td>\n",
       "      <td>2.610000</td>\n",
       "      <td>2.930000</td>\n",
       "      <td>3.780000</td>\n",
       "      <td>6.900000</td>\n",
       "      <td>8.500000</td>\n",
       "      <td>10.000000</td>\n",
       "    </tr>\n",
       "    <tr>\n",
       "      <th>total_size</th>\n",
       "      <td>21.711165</td>\n",
       "      <td>12.000000</td>\n",
       "      <td>928.899258</td>\n",
       "      <td>30.477849</td>\n",
       "      <td>3.420732</td>\n",
       "      <td>13.142714</td>\n",
       "      <td>1.000000</td>\n",
       "      <td>198.000000</td>\n",
       "      <td>1.000000</td>\n",
       "      <td>3.000000</td>\n",
       "      <td>8.000000</td>\n",
       "      <td>20.000000</td>\n",
       "      <td>84.699997</td>\n",
       "      <td>163.000000</td>\n",
       "    </tr>\n",
       "  </tbody>\n",
       "</table>\n",
       "</div>"
      ],
      "text/plain": [
       "                      mean     median         var        std      skew  \\\n",
       "returns           0.002192   0.004757    0.000571   0.023886 -6.108449   \n",
       "downside_risk_3   0.005677   0.000000    0.000879   0.029647  9.376352   \n",
       "status_dsr       -0.004486  -0.004508    0.000005   0.002204 -0.463931   \n",
       "vol               0.001605   0.000000    0.000027   0.005177  5.579493   \n",
       "skew              0.033211   0.000000    4.710706   2.170416 -0.015242   \n",
       "illiq_2_2         0.069389   0.055556    0.013547   0.116393  1.221392   \n",
       "default_spread    1.229138  -1.270753   99.207179   9.960280  5.146521   \n",
       "creditrate        4.642002   5.000000    2.068598   1.438262 -1.723986   \n",
       "res_day           4.128499   4.136986    5.548658   2.355559  0.030897   \n",
       "coupon            5.534797   5.700000    3.319477   1.821943  0.164317   \n",
       "total_size       21.711165  12.000000  928.899258  30.477849  3.420732   \n",
       "\n",
       "                       kurt       min         max       1st       5th  \\\n",
       "returns           43.054608 -0.179702    0.039195 -0.179702 -0.014646   \n",
       "downside_risk_3  112.894635  0.000000    0.873396  0.000000  0.000000   \n",
       "status_dsr        -0.711295 -0.009887   -0.001112 -0.009887 -0.008269   \n",
       "vol               35.105956  0.000000    0.039332  0.000000  0.000000   \n",
       "skew               0.852875 -4.619601    4.690416 -4.619601 -4.472136   \n",
       "illiq_2_2         18.985435 -0.999998    1.000000 -0.254995 -0.015029   \n",
       "default_spread    32.591518 -6.990800   94.651642 -5.287200 -3.967564   \n",
       "creditrate         3.628973  0.000000    6.000000  0.000000  0.000000   \n",
       "res_day            0.217219 -2.336717    9.852055 -2.336717  0.394506   \n",
       "coupon            -0.869864  2.540000   10.000000  2.610000  2.930000   \n",
       "total_size        13.142714  1.000000  198.000000  1.000000  3.000000   \n",
       "\n",
       "                     25th       75th       95th        99th  \n",
       "returns          0.002825   0.006723   0.019217    0.039195  \n",
       "downside_risk_3  0.000000   0.000000   0.022697    0.190841  \n",
       "status_dsr      -0.006075  -0.002710  -0.001463   -0.001112  \n",
       "vol              0.000000   0.000645   0.007947    0.039332  \n",
       "skew             0.000000   0.000000   4.469533    4.690416  \n",
       "illiq_2_2        0.050000   0.071429   0.259467    0.500000  \n",
       "default_spread  -2.481489   0.110372  21.070892   59.087924  \n",
       "creditrate       4.000000   6.000000   6.000000    6.000000  \n",
       "res_day          2.561009   5.747945   8.534247    9.852055  \n",
       "coupon           3.780000   6.900000   8.500000   10.000000  \n",
       "total_size       8.000000  20.000000  84.699997  163.000000  "
      ]
     },
     "execution_count": 14,
     "metadata": {},
     "output_type": "execute_result"
    }
   ],
   "source": [
    "descrip\n",
    "#目前return还没有化成百分比"
   ]
  },
  {
   "cell_type": "code",
   "execution_count": null,
   "metadata": {},
   "outputs": [],
   "source": [
    "#观察return出现极值的情况\n",
    "ex = pd.DataFrame(monthly_cb_value[monthly_cb_value['returns'] > 1].cb_id.value_counts().index)\n",
    "ex.columns = ['id']\n",
    "\n",
    "bondExample = monthly_cb_value[monthly_cb_value['cb_id'] == ex.iloc[0].id] #随机选取这些特殊债券列表中的一只债券\n",
    "bondExample = bondExample.set_index('datetime').sort_index()\n",
    "plt.plot(bondExample.close)\n",
    "plt.title('Time Series Price of a Returns Outlier')\n",
    "plt.show()\n",
    "#我们看到这个极值债券的价格走势在18年出现了瞬间的下跌（该极值应该被剔除？）"
   ]
  },
  {
   "cell_type": "code",
   "execution_count": null,
   "metadata": {},
   "outputs": [],
   "source": [
    "#从default spread可以看到其对应的最大值过高， 因此看一下default spread较高的债券的价格走势情况是否正常\n",
    "ex = pd.DataFrame(monthly_cb_value[monthly_cb_value['default_spread'] > 90].cb_id.value_counts().index)\n",
    "ex.columns = ['id']\n",
    "\n",
    "bondExample = monthly_cb_value[monthly_cb_value['cb_id'] == ex.iloc[1].id] #随机选取这些特殊债券列表中的一只债券\n",
    "bondExample = bondExample.set_index('datetime').sort_index()\n",
    "plt.plot(bondExample.close)\n",
    "plt.title('Time Series Price of a Default Spread Outlier')\n",
    "plt.show()\n",
    "#下图可以看到该债券的价格出现断崖式下跌，这在我们的预期中是相对正常的（数据本身没有出现问题）"
   ]
  },
  {
   "cell_type": "code",
   "execution_count": null,
   "metadata": {},
   "outputs": [],
   "source": [
    "#为了进一步看Default Spread(同时也是反映yield)是否可以使用，我们统计一下default spread的分布\n",
    "plt.hist(monthly_cb_value['default_spread'], bins='auto')\n",
    "plt.title('Bonds Distribution in Default Spread')\n",
    "plt.show()\n",
    "#分布中有一部分极值的情况（大于60），从上述分析中我们可以看到该情况起因是债券价格突然降低（可以考虑标准化）"
   ]
  },
  {
   "cell_type": "markdown",
   "metadata": {},
   "source": [
    "## Table 1-B The Correlation Analysis of Major Factors"
   ]
  },
  {
   "cell_type": "code",
   "execution_count": null,
   "metadata": {
    "scrolled": true
   },
   "outputs": [],
   "source": [
    "corr_index = ['returns', 'downside_risk_3', 'status_dsr', 'vol', 'skew','illiq_2_2', 'default_spread', 'creditRate', 'res_day']\n",
    "monthly_cb_value[corr_index].corr()\n",
    "#相关性基本符合预期 其中vol和downside risk之间的相关性较高，在Univariate Sort和Bivariate Sort过程中需要注意"
   ]
  },
  {
   "cell_type": "markdown",
   "metadata": {
    "collapsed": true
   },
   "source": [
    "## Table 2 Univariate Portfolios  Sorted by Downside Risk and Vol"
   ]
  },
  {
   "cell_type": "markdown",
   "metadata": {},
   "source": [
    "\n",
    "选取债券本身的特征：\n",
    "1.债券发行量\n",
    "2.债券种类\n",
    "3.债券评级\n",
    "4.债券上市日期\n",
    "下面是对于上述债券特征的统计描述"
   ]
  },
  {
   "cell_type": "code",
   "execution_count": null,
   "metadata": {
    "collapsed": true
   },
   "outputs": [],
   "source": [
    "from sort_functions import return_decile, return_decile_2\n",
    "#these are univariate sorting functions, see sort_functions.py "
   ]
  },
  {
   "cell_type": "code",
   "execution_count": null,
   "metadata": {},
   "outputs": [],
   "source": [
    "univariate_index = ['returns_n', 'downside_risk_3', 'status_dsr', 'vol', 'skew','illiq_2_2', 'default_spread', 'creditRate', 'res_day']\n",
    "univSort_downside = return_decile_2('downside_risk_3', monthly_cb_value[monthly_cb_value['downside_risk_3'] != 0], univariate_index)\n",
    "univSort_downside\n",
    "#重点看returns_n(下一期收益的变化)可以看到上升趋势非常明显"
   ]
  },
  {
   "cell_type": "code",
   "execution_count": null,
   "metadata": {},
   "outputs": [],
   "source": [
    "univariate_index = ['returns_n', 'downside_risk_3', 'status_dsr', 'vol', 'skew','illiq_2_2', 'default_spread', 'creditRate', 'res_day']\n",
    "univSort_vol = return_decile_2('vol', monthly_cb_value[monthly_cb_value['downside_risk_3'] != 0], univariate_index)\n",
    "univSort_vol\n",
    "#returns_n上升趋势相对明显"
   ]
  },
  {
   "cell_type": "markdown",
   "metadata": {},
   "source": [
    "## Table 3 Bivariate Sorted Portfolio( Different Bond Types) "
   ]
  },
  {
   "cell_type": "markdown",
   "metadata": {},
   "source": [
    "Bivariate Sort 分为两个部分：   \n",
    "**1. control variable 取值不连续**  \n",
    "选取债券本身的特征：    \n",
    "1.债券发行量  \n",
    "2.债券种类  \n",
    "3.债券评级  \n",
    "4.债券上市日期  \n",
    "先分别统计这些指标的特征，再对债券进行分类，观察这些指标下债券的对于Downside Risk等的portfolio构建结果是否存在一定趋势  \n",
    "  \n",
    "**2. control variable 取值连续**  \n",
    "以Downside_risk, vol为自变量，分析控制债券回报率（returns）, default_spread, illiquidity, total_size, maturity下这两个变量的表现"
   ]
  },
  {
   "cell_type": "markdown",
   "metadata": {},
   "source": [
    "### 1. control variable 取值不连续"
   ]
  },
  {
   "cell_type": "code",
   "execution_count": null,
   "metadata": {},
   "outputs": [],
   "source": [
    "#分析债券本身的特征（上述四个特征）的统计数据, 然后分析对应的结果\n",
    "#特征1：bond size\n",
    "plt.hist(monthly_cb_value['total_size'], bins = 'auto')\n",
    "plt.title('Bonds Distribution in Total Size')\n",
    "plt.show()"
   ]
  },
  {
   "cell_type": "code",
   "execution_count": null,
   "metadata": {},
   "outputs": [],
   "source": [
    "monthly_cb_value.loc[monthly_cb_value.total_size.isin(range(0, 15)), 'size_type']='low'\n",
    "monthly_cb_value.loc[monthly_cb_value.total_size.isin(range(15, 50)), 'size_type']='med'\n",
    "monthly_cb_value.loc[monthly_cb_value.total_size>50, 'size_type']='high'\n",
    "monthly_cb_value['size_type'].value_counts()"
   ]
  },
  {
   "cell_type": "code",
   "execution_count": null,
   "metadata": {
    "collapsed": true
   },
   "outputs": [],
   "source": [
    "from bivariate_sort import bivariate_sort_decile, bivariate_sort_types"
   ]
  },
  {
   "cell_type": "code",
   "execution_count": null,
   "metadata": {},
   "outputs": [],
   "source": [
    "bivariate_sort_types('downside_risk_3', 'size_type', monthly_cb_value[monthly_cb_value['downside_risk_3']!=0], 5)\n",
    "#从结果来看三种类型中downside_risk和预期收益率都有明显的相关趋势"
   ]
  },
  {
   "cell_type": "code",
   "execution_count": null,
   "metadata": {},
   "outputs": [],
   "source": [
    "bivariate_sort_types('vol', 'size_type', monthly_cb_value[monthly_cb_value['vol']!=0], 5)\n",
    "#从结果来看三种类型中vol和预期收益率都有一定相关趋势，但是和downside risk相比该趋势较弱（尤其在’high‘类别上）"
   ]
  },
  {
   "cell_type": "code",
   "execution_count": null,
   "metadata": {},
   "outputs": [],
   "source": [
    "#特征2：bond type\n",
    "monthly_cb_value['bond_type'].value_counts().sort_index()"
   ]
  },
  {
   "cell_type": "code",
   "execution_count": null,
   "metadata": {},
   "outputs": [],
   "source": [
    "bivariate_sort_types('downside_risk_3', 'bond_type', monthly_cb_value[monthly_cb_value['downside_risk_3']!=0], 5)\n",
    "#后几个类别数据量过少，因此结果为零（正常），几个主要类别的downside risk均有较强趋势，尤其是类别1.0（公司债）"
   ]
  },
  {
   "cell_type": "code",
   "execution_count": null,
   "metadata": {},
   "outputs": [],
   "source": [
    "bivariate_sort_types('vol', 'bond_type', monthly_cb_value[monthly_cb_value['vol']!=0], 5)\n",
    "#和downside risk相比，vol只有在公司在上有比较明显的相关趋势"
   ]
  },
  {
   "cell_type": "code",
   "execution_count": null,
   "metadata": {},
   "outputs": [],
   "source": [
    "#特征3：credit rate\n",
    "monthly_cb_value['creditRate'].value_counts().sort_index()"
   ]
  },
  {
   "cell_type": "code",
   "execution_count": null,
   "metadata": {},
   "outputs": [],
   "source": [
    "bivariate_sort_types('downside_risk_3', 'creditRate', monthly_cb_value[monthly_cb_value['downside_risk_3']!=0], 5)"
   ]
  },
  {
   "cell_type": "code",
   "execution_count": null,
   "metadata": {},
   "outputs": [],
   "source": [
    "bivariate_sort_types('vol', 'creditRate', monthly_cb_value[monthly_cb_value['vol']!=0], 5)"
   ]
  },
  {
   "cell_type": "code",
   "execution_count": null,
   "metadata": {},
   "outputs": [],
   "source": [
    "#特征4： 上市时间（on_market_date）\n",
    "monthly_cb_value['on_market_date'] = monthly_cb_value['on_market_date'].apply(lambda x: pd.to_datetime(x))\n",
    "monthly_cb_value['on_market_year'] = monthly_cb_value['on_market_date'].apply(lambda x: x.year)\n",
    "monthly_cb_value['on_market_month'] = monthly_cb_value['on_market_date'].apply(lambda x: x.month)\n",
    "monthly_cb_value['on_market_year'].value_counts().sort_index()                                                                            "
   ]
  },
  {
   "cell_type": "code",
   "execution_count": null,
   "metadata": {},
   "outputs": [],
   "source": [
    "bivariate_sort_types('downside_risk_3', 'on_market_year', monthly_cb_value[monthly_cb_value['downside_risk_3']!=0], 5)"
   ]
  },
  {
   "cell_type": "code",
   "execution_count": null,
   "metadata": {},
   "outputs": [],
   "source": [
    "bivariate_sort_types('vol', 'on_market_year', monthly_cb_value[monthly_cb_value['vol']!=0], 5)"
   ]
  },
  {
   "cell_type": "markdown",
   "metadata": {},
   "source": [
    "### 2. control variable 取值连续"
   ]
  },
  {
   "cell_type": "code",
   "execution_count": null,
   "metadata": {},
   "outputs": [],
   "source": [
    "#returns\n",
    "bivariate_sort_decile('downside_risk_3', 'returns', monthly_cb_value[monthly_cb_value['downside_risk_3']!=0], 5, 5)\n",
    "#still promising"
   ]
  },
  {
   "cell_type": "code",
   "execution_count": null,
   "metadata": {},
   "outputs": [],
   "source": [
    "bivariate_sort_decile('vol', 'returns', monthly_cb_value[monthly_cb_value['vol']!=0], 5, 5)"
   ]
  }
 ],
 "metadata": {
  "kernelspec": {
   "display_name": "Python 3",
   "language": "python",
   "name": "python3"
  },
  "language_info": {
   "codemirror_mode": {
    "name": "ipython",
    "version": 3
   },
   "file_extension": ".py",
   "mimetype": "text/x-python",
   "name": "python",
   "nbconvert_exporter": "python",
   "pygments_lexer": "ipython3",
   "version": "3.6.3"
  }
 },
 "nbformat": 4,
 "nbformat_minor": 2
}
